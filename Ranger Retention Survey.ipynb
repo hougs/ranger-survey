{
 "cells": [
  {
   "cell_type": "code",
   "execution_count": null,
   "metadata": {},
   "outputs": [],
   "source": [
    "%matplotlib inline\n",
    "import pandas as pd\n",
    "import matplotlib.pyplot as plt\n",
    "import seaborn as sb"
   ]
  },
  {
   "cell_type": "code",
   "execution_count": null,
   "metadata": {},
   "outputs": [],
   "source": [
    "src_data_date_updated = '301019'\n",
    "survey_res = pd.read_csv('data/2019-v2-' + src_data_date_updated +'.csv')"
   ]
  },
  {
   "cell_type": "code",
   "execution_count": null,
   "metadata": {},
   "outputs": [],
   "source": [
    "conditioning_qs = {\n",
    "    'gender': 'What is your primary gender identity (if any)?',\n",
    "    'age': 'What is your current age?',\n",
    "    'poc': 'Do you identify as a person of color?',\n",
    "}\n",
    "\n",
    "central_qs = {\n",
    "    'overall_exp' : 'How satisfied are you with your overall experience as a Ranger?',\n",
    "    'appreciated' : 'How appreciated do you feel by the Ranger department?',\n",
    "    'nps' : 'If you had a friend that was clearly a Rangerly-type, would you recommend that they volunteer for Rangers?',\n",
    "    'next_year' : 'Do you plan to Ranger at Burning Man in 2020?'\n",
    "             }\n",
    "\n",
    "# survey_res.columns"
   ]
  },
  {
   "cell_type": "code",
   "execution_count": null,
   "metadata": {},
   "outputs": [],
   "source": [
    "survey_res.head()"
   ]
  },
  {
   "cell_type": "code",
   "execution_count": null,
   "metadata": {},
   "outputs": [],
   "source": [
    "def make_bar(central_q, conditioning_q, survey_res, table_row_width_scale=1,rotation=0):\n",
    "    con_res = survey_res.groupby([conditioning_q, central_q]).size().unstack(fill_value=0)\n",
    "    cond_freq_res =  con_res.apply(lambda row: row/sum(row),axis=1)\n",
    "\n",
    "    count_table = con_res.sum(axis=1).apply(str).reset_index()\n",
    "    count_table_to_display = pd.concat([pd.DataFrame([[count_table.columns[0], \"# of Responses\"]], columns=count_table.columns), count_table])\n",
    "\n",
    "\n",
    "    long_cond_freq = cond_freq_res.reset_index().melt(id_vars=conditioning_q).rename(columns={\"value\": \"Fraction of Population\"})\n",
    "    g = sb.catplot(x=central_q ,data=long_cond_freq, y='Fraction of Population',col=conditioning_q,\n",
    "              kind='bar')\n",
    "    g.set_titles(\"{col_var}\\n{col_name}\")\n",
    "    g.set_xticklabels(rotation=rotation)\n",
    "    tbl = plt.table(cellText=count_table_to_display.values,\n",
    "          colWidths = [1.1]*len(count_table_to_display.columns),\n",
    "          cellLoc = 'center', rowLoc = 'center',\n",
    "          loc='right')\n",
    "    tbl.auto_set_font_size(False)\n",
    "    tbl.set_fontsize('large')\n",
    "    tbl.scale(table_row_width_scale,2)\n"
   ]
  },
  {
   "cell_type": "code",
   "execution_count": null,
   "metadata": {
    "scrolled": true
   },
   "outputs": [],
   "source": [
    "#* How satisfied are you with your overall experience as a Ranger?\n",
    "make_bar('How satisfied are you with your overall experience as a Ranger?','Did you Ranger at Burning Man in 2019?',\n",
    "        survey_res)\n",
    "plt.savefig('img/overall_exp_cond_on_ranger_this_year-' + src_data_date_updated + '.png', bbox_inches=\"tight\", pad_inches=1)"
   ]
  },
  {
   "cell_type": "code",
   "execution_count": null,
   "metadata": {},
   "outputs": [],
   "source": [
    "make_bar('How appreciated do you feel by the Ranger department?','Did you Ranger at Burning Man in 2019?', survey_res)\n",
    "plt.savefig('img/appreciated_cond_on_ranger_this_year-' + src_data_date_updated + '.png', bbox_inches=\"tight\", pad_inches=1)"
   ]
  },
  {
   "cell_type": "code",
   "execution_count": null,
   "metadata": {},
   "outputs": [],
   "source": [
    "make_bar('If you had a friend that was clearly a Rangerly-type, would you recommend that they volunteer for Rangers?',\n",
    "         'Did you Ranger at Burning Man in 2019?', survey_res, table_row_width_scale=2)\n",
    "plt.savefig('img/rec_cond_on_ranger_this_year-' + src_data_date_updated + '.png', bbox_inches=\"tight\", pad_inches=1)"
   ]
  },
  {
   "cell_type": "code",
   "execution_count": null,
   "metadata": {},
   "outputs": [],
   "source": [
    "# rotate axis labels\n",
    "make_bar('Do you plan to Ranger at Burning Man in 2020?','Did you Ranger at Burning Man in 2019?', survey_res, rotation=90)\n",
    "plt.savefig('img/ranger_next_year_cond_on_ranger_this_year-' + src_data_date_updated + '.png', bbox_inches=\"tight\", pad_inches=1)"
   ]
  },
  {
   "cell_type": "code",
   "execution_count": null,
   "metadata": {},
   "outputs": [],
   "source": [
    "make_bar('How included do you feel in the Rangers?','Did you Ranger at Burning Man in 2019?', survey_res)\n",
    "plt.savefig('img/how_included_cond_on_ranger_this_year-' + src_data_date_updated + '.png', bbox_inches=\"tight\", pad_inches=1)"
   ]
  },
  {
   "cell_type": "code",
   "execution_count": null,
   "metadata": {},
   "outputs": [],
   "source": [
    "gen_mapping = {'Female' : 'f', 'male': 'm', 'Male': 'm', 'Cis Male': 'm',\n",
    "       'Male.': 'm', 'female': 'f', 'Man/Male': 'm', 'CIS Male': 'm',\n",
    "     'Cis male': 'm', 'Male ': 'm', 'Cis-male': 'm', 'M': 'm',\n",
    "       'cis-het-male': 'm', 'Man': 'm', 'F': 'f', 'Male, definitely': 'm',\n",
    "       'man': 'm', 'Dude': 'm', 'woman': 'f', 'female / she/her': 'f', 'dude': 'm',\n",
    "        'boy': 'm', 'Cisgender Woman': 'f', 'Female ': 'f',\n",
    "       \"I'm a lady \": 'f', 'Woman': 'f',\n",
    "       'Cis-Male': 'm', 'Heteosexual male': 'm', 'Cis het male': 'm', 'Him': 'm',\n",
    "       'Straight male.': 'm', 'cis-male': 'm', 'he / him': 'm',\n",
    "       'Male presenting': 'm', 'male binary': 'm', 'He/Him': 'm', 'She/Her': 'f',\n",
    "       'slightly male': 'm', 'queer male': 'm', 'maleish': 'm'\n",
    "}\n",
    "\n",
    "def normalize_genders(df):\n",
    "    df['What is your primary gender identity (if any)?\\n(Normalized)'] = df['What is your primary gender identity (if any)?'].apply(lambda row : gen_mapping.get(row, 'other'))\n",
    "    return df\n",
    "\n",
    "\n",
    "rangered_2019 = survey_res[survey_res['Did you Ranger at Burning Man in 2019?'] == 'Yes']\n",
    "rangered_2019 = normalize_genders(rangered_2019)\n",
    "\n",
    "make_bar('How included do you feel in the Rangers?', 'Do you identify as a person of color?', rangered_2019)\n",
    "plt.savefig('img/how_included_cond_on_poc_filtered_by_ranger_2019-' + src_data_date_updated + '.png', bbox_inches=\"tight\", pad_inches=1)"
   ]
  },
  {
   "cell_type": "code",
   "execution_count": null,
   "metadata": {
    "scrolled": true
   },
   "outputs": [],
   "source": [
    "make_bar('How included do you feel in the Rangers?', 'What is your primary gender identity (if any)?\\n(Normalized)', rangered_2019)\n",
    "plt.savefig('img/how_included_cond_on_gender_filtered_by_ranger_2019-' + src_data_date_updated + '.png', bbox_inches=\"tight\", pad_inches=1)"
   ]
  },
  {
   "cell_type": "code",
   "execution_count": null,
   "metadata": {},
   "outputs": [],
   "source": [
    "make_bar('How satisfied are you with your overall experience as a Ranger?', 'What is your primary gender identity (if any)?\\n(Normalized)', rangered_2019)\n",
    "plt.savefig('img/overall_exp_cond_on_gender_filtered_by_ranger_2019-' + src_data_date_updated + '.png', bbox_inches=\"tight\", pad_inches=1)"
   ]
  },
  {
   "cell_type": "code",
   "execution_count": null,
   "metadata": {},
   "outputs": [],
   "source": [
    "make_bar('How appreciated do you feel by the Ranger department?', 'What is your primary gender identity (if any)?\\n(Normalized)', rangered_2019)\n",
    "plt.savefig('img/appreciated_cond_on_gender_filtered_by_ranger_2019-' + src_data_date_updated + '.png', bbox_inches=\"tight\", pad_inches=1)"
   ]
  },
  {
   "cell_type": "code",
   "execution_count": null,
   "metadata": {},
   "outputs": [],
   "source": []
  }
 ],
 "metadata": {
  "kernelspec": {
   "display_name": "Python 3",
   "language": "python",
   "name": "python3"
  },
  "language_info": {
   "codemirror_mode": {
    "name": "ipython",
    "version": 3
   },
   "file_extension": ".py",
   "mimetype": "text/x-python",
   "name": "python",
   "nbconvert_exporter": "python",
   "pygments_lexer": "ipython3",
   "version": "3.6.8"
  }
 },
 "nbformat": 4,
 "nbformat_minor": 2
}
